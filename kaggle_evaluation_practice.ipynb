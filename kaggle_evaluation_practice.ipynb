{
  "nbformat": 4,
  "nbformat_minor": 0,
  "metadata": {
    "colab": {
      "provenance": [],
      "authorship_tag": "ABX9TyP0VAd1mrHy+DSfBK3VmXVi",
      "include_colab_link": true
    },
    "kernelspec": {
      "name": "python3",
      "display_name": "Python 3"
    },
    "language_info": {
      "name": "python"
    }
  },
  "cells": [
    {
      "cell_type": "markdown",
      "metadata": {
        "id": "view-in-github",
        "colab_type": "text"
      },
      "source": [
        "<a href=\"https://colab.research.google.com/github/suhyeon03/study_ML_kaggle/blob/main/kaggle_evaluation_practice.ipynb\" target=\"_parent\"><img src=\"https://colab.research.google.com/assets/colab-badge.svg\" alt=\"Open In Colab\"/></a>"
      ]
    },
    {
      "cell_type": "code",
      "source": [
        "!pip install kaggle\n",
        "from google.colab import files\n",
        "files.upload()"
      ],
      "metadata": {
        "colab": {
          "base_uri": "https://localhost:8080/",
          "height": 324
        },
        "id": "oAUF_G1nNf0q",
        "outputId": "5b206053-74cb-4276-b26d-f7fc866bf522"
      },
      "execution_count": 3,
      "outputs": [
        {
          "output_type": "stream",
          "name": "stdout",
          "text": [
            "Requirement already satisfied: kaggle in /usr/local/lib/python3.11/dist-packages (1.6.17)\n",
            "Requirement already satisfied: six>=1.10 in /usr/local/lib/python3.11/dist-packages (from kaggle) (1.17.0)\n",
            "Requirement already satisfied: certifi>=2023.7.22 in /usr/local/lib/python3.11/dist-packages (from kaggle) (2025.1.31)\n",
            "Requirement already satisfied: python-dateutil in /usr/local/lib/python3.11/dist-packages (from kaggle) (2.8.2)\n",
            "Requirement already satisfied: requests in /usr/local/lib/python3.11/dist-packages (from kaggle) (2.32.3)\n",
            "Requirement already satisfied: tqdm in /usr/local/lib/python3.11/dist-packages (from kaggle) (4.67.1)\n",
            "Requirement already satisfied: python-slugify in /usr/local/lib/python3.11/dist-packages (from kaggle) (8.0.4)\n",
            "Requirement already satisfied: urllib3 in /usr/local/lib/python3.11/dist-packages (from kaggle) (2.3.0)\n",
            "Requirement already satisfied: bleach in /usr/local/lib/python3.11/dist-packages (from kaggle) (6.2.0)\n",
            "Requirement already satisfied: webencodings in /usr/local/lib/python3.11/dist-packages (from bleach->kaggle) (0.5.1)\n",
            "Requirement already satisfied: text-unidecode>=1.3 in /usr/local/lib/python3.11/dist-packages (from python-slugify->kaggle) (1.3)\n",
            "Requirement already satisfied: charset-normalizer<4,>=2 in /usr/local/lib/python3.11/dist-packages (from requests->kaggle) (3.4.1)\n",
            "Requirement already satisfied: idna<4,>=2.5 in /usr/local/lib/python3.11/dist-packages (from requests->kaggle) (3.10)\n"
          ]
        },
        {
          "output_type": "display_data",
          "data": {
            "text/plain": [
              "<IPython.core.display.HTML object>"
            ],
            "text/html": [
              "\n",
              "     <input type=\"file\" id=\"files-401304aa-fa6e-4023-ac90-338de71d8047\" name=\"files[]\" multiple disabled\n",
              "        style=\"border:none\" />\n",
              "     <output id=\"result-401304aa-fa6e-4023-ac90-338de71d8047\">\n",
              "      Upload widget is only available when the cell has been executed in the\n",
              "      current browser session. Please rerun this cell to enable.\n",
              "      </output>\n",
              "      <script>// Copyright 2017 Google LLC\n",
              "//\n",
              "// Licensed under the Apache License, Version 2.0 (the \"License\");\n",
              "// you may not use this file except in compliance with the License.\n",
              "// You may obtain a copy of the License at\n",
              "//\n",
              "//      http://www.apache.org/licenses/LICENSE-2.0\n",
              "//\n",
              "// Unless required by applicable law or agreed to in writing, software\n",
              "// distributed under the License is distributed on an \"AS IS\" BASIS,\n",
              "// WITHOUT WARRANTIES OR CONDITIONS OF ANY KIND, either express or implied.\n",
              "// See the License for the specific language governing permissions and\n",
              "// limitations under the License.\n",
              "\n",
              "/**\n",
              " * @fileoverview Helpers for google.colab Python module.\n",
              " */\n",
              "(function(scope) {\n",
              "function span(text, styleAttributes = {}) {\n",
              "  const element = document.createElement('span');\n",
              "  element.textContent = text;\n",
              "  for (const key of Object.keys(styleAttributes)) {\n",
              "    element.style[key] = styleAttributes[key];\n",
              "  }\n",
              "  return element;\n",
              "}\n",
              "\n",
              "// Max number of bytes which will be uploaded at a time.\n",
              "const MAX_PAYLOAD_SIZE = 100 * 1024;\n",
              "\n",
              "function _uploadFiles(inputId, outputId) {\n",
              "  const steps = uploadFilesStep(inputId, outputId);\n",
              "  const outputElement = document.getElementById(outputId);\n",
              "  // Cache steps on the outputElement to make it available for the next call\n",
              "  // to uploadFilesContinue from Python.\n",
              "  outputElement.steps = steps;\n",
              "\n",
              "  return _uploadFilesContinue(outputId);\n",
              "}\n",
              "\n",
              "// This is roughly an async generator (not supported in the browser yet),\n",
              "// where there are multiple asynchronous steps and the Python side is going\n",
              "// to poll for completion of each step.\n",
              "// This uses a Promise to block the python side on completion of each step,\n",
              "// then passes the result of the previous step as the input to the next step.\n",
              "function _uploadFilesContinue(outputId) {\n",
              "  const outputElement = document.getElementById(outputId);\n",
              "  const steps = outputElement.steps;\n",
              "\n",
              "  const next = steps.next(outputElement.lastPromiseValue);\n",
              "  return Promise.resolve(next.value.promise).then((value) => {\n",
              "    // Cache the last promise value to make it available to the next\n",
              "    // step of the generator.\n",
              "    outputElement.lastPromiseValue = value;\n",
              "    return next.value.response;\n",
              "  });\n",
              "}\n",
              "\n",
              "/**\n",
              " * Generator function which is called between each async step of the upload\n",
              " * process.\n",
              " * @param {string} inputId Element ID of the input file picker element.\n",
              " * @param {string} outputId Element ID of the output display.\n",
              " * @return {!Iterable<!Object>} Iterable of next steps.\n",
              " */\n",
              "function* uploadFilesStep(inputId, outputId) {\n",
              "  const inputElement = document.getElementById(inputId);\n",
              "  inputElement.disabled = false;\n",
              "\n",
              "  const outputElement = document.getElementById(outputId);\n",
              "  outputElement.innerHTML = '';\n",
              "\n",
              "  const pickedPromise = new Promise((resolve) => {\n",
              "    inputElement.addEventListener('change', (e) => {\n",
              "      resolve(e.target.files);\n",
              "    });\n",
              "  });\n",
              "\n",
              "  const cancel = document.createElement('button');\n",
              "  inputElement.parentElement.appendChild(cancel);\n",
              "  cancel.textContent = 'Cancel upload';\n",
              "  const cancelPromise = new Promise((resolve) => {\n",
              "    cancel.onclick = () => {\n",
              "      resolve(null);\n",
              "    };\n",
              "  });\n",
              "\n",
              "  // Wait for the user to pick the files.\n",
              "  const files = yield {\n",
              "    promise: Promise.race([pickedPromise, cancelPromise]),\n",
              "    response: {\n",
              "      action: 'starting',\n",
              "    }\n",
              "  };\n",
              "\n",
              "  cancel.remove();\n",
              "\n",
              "  // Disable the input element since further picks are not allowed.\n",
              "  inputElement.disabled = true;\n",
              "\n",
              "  if (!files) {\n",
              "    return {\n",
              "      response: {\n",
              "        action: 'complete',\n",
              "      }\n",
              "    };\n",
              "  }\n",
              "\n",
              "  for (const file of files) {\n",
              "    const li = document.createElement('li');\n",
              "    li.append(span(file.name, {fontWeight: 'bold'}));\n",
              "    li.append(span(\n",
              "        `(${file.type || 'n/a'}) - ${file.size} bytes, ` +\n",
              "        `last modified: ${\n",
              "            file.lastModifiedDate ? file.lastModifiedDate.toLocaleDateString() :\n",
              "                                    'n/a'} - `));\n",
              "    const percent = span('0% done');\n",
              "    li.appendChild(percent);\n",
              "\n",
              "    outputElement.appendChild(li);\n",
              "\n",
              "    const fileDataPromise = new Promise((resolve) => {\n",
              "      const reader = new FileReader();\n",
              "      reader.onload = (e) => {\n",
              "        resolve(e.target.result);\n",
              "      };\n",
              "      reader.readAsArrayBuffer(file);\n",
              "    });\n",
              "    // Wait for the data to be ready.\n",
              "    let fileData = yield {\n",
              "      promise: fileDataPromise,\n",
              "      response: {\n",
              "        action: 'continue',\n",
              "      }\n",
              "    };\n",
              "\n",
              "    // Use a chunked sending to avoid message size limits. See b/62115660.\n",
              "    let position = 0;\n",
              "    do {\n",
              "      const length = Math.min(fileData.byteLength - position, MAX_PAYLOAD_SIZE);\n",
              "      const chunk = new Uint8Array(fileData, position, length);\n",
              "      position += length;\n",
              "\n",
              "      const base64 = btoa(String.fromCharCode.apply(null, chunk));\n",
              "      yield {\n",
              "        response: {\n",
              "          action: 'append',\n",
              "          file: file.name,\n",
              "          data: base64,\n",
              "        },\n",
              "      };\n",
              "\n",
              "      let percentDone = fileData.byteLength === 0 ?\n",
              "          100 :\n",
              "          Math.round((position / fileData.byteLength) * 100);\n",
              "      percent.textContent = `${percentDone}% done`;\n",
              "\n",
              "    } while (position < fileData.byteLength);\n",
              "  }\n",
              "\n",
              "  // All done.\n",
              "  yield {\n",
              "    response: {\n",
              "      action: 'complete',\n",
              "    }\n",
              "  };\n",
              "}\n",
              "\n",
              "scope.google = scope.google || {};\n",
              "scope.google.colab = scope.google.colab || {};\n",
              "scope.google.colab._files = {\n",
              "  _uploadFiles,\n",
              "  _uploadFilesContinue,\n",
              "};\n",
              "})(self);\n",
              "</script> "
            ]
          },
          "metadata": {}
        },
        {
          "output_type": "stream",
          "name": "stdout",
          "text": [
            "Saving kaggle.json to kaggle.json\n"
          ]
        },
        {
          "output_type": "execute_result",
          "data": {
            "text/plain": [
              "{'kaggle.json': b'{\"username\":\"parksuh\",\"key\":\"d334f0ba44dadedc034c03fd3ed8adcf\"}'}"
            ]
          },
          "metadata": {},
          "execution_count": 3
        }
      ]
    },
    {
      "cell_type": "code",
      "source": [
        "\n",
        "!mkdir -p ~/.kaggle\n",
        "!cp kaggle.json ~/.kaggle/\n",
        "\n",
        "# Permission Warning 방지\n",
        "!chmod 600 ~/.kaggle/kaggle.json\n"
      ],
      "metadata": {
        "id": "fexJPtIbN8qo"
      },
      "execution_count": 4,
      "outputs": []
    },
    {
      "cell_type": "code",
      "source": [
        "\n",
        "! kaggle competitions download -c titanic\n"
      ],
      "metadata": {
        "colab": {
          "base_uri": "https://localhost:8080/"
        },
        "id": "cxMO2dTdN8oZ",
        "outputId": "13b67f9a-dd5a-4187-c2a0-e5c9e6572846"
      },
      "execution_count": 5,
      "outputs": [
        {
          "output_type": "stream",
          "name": "stdout",
          "text": [
            "Downloading titanic.zip to /content\n",
            "\r  0% 0.00/34.1k [00:00<?, ?B/s]\n",
            "\r100% 34.1k/34.1k [00:00<00:00, 54.6MB/s]\n"
          ]
        }
      ]
    },
    {
      "cell_type": "code",
      "source": [
        "\n",
        "!unzip /content/titanic.zip"
      ],
      "metadata": {
        "colab": {
          "base_uri": "https://localhost:8080/"
        },
        "id": "OXpBQjN3N8l9",
        "outputId": "99a17236-f965-48fa-defd-381c9c8a26d0"
      },
      "execution_count": 6,
      "outputs": [
        {
          "output_type": "stream",
          "name": "stdout",
          "text": [
            "Archive:  /content/titanic.zip\n",
            "  inflating: gender_submission.csv   \n",
            "  inflating: test.csv                \n",
            "  inflating: train.csv               \n"
          ]
        }
      ]
    },
    {
      "cell_type": "markdown",
      "source": [
        "#1.정확도(Accuracy)\n",
        "## 정확도, 오차행렬, 정밀도, 재현율, F1스코어, ROC AUC"
      ],
      "metadata": {
        "id": "pufma5MGLa3O"
      }
    },
    {
      "cell_type": "code",
      "source": [
        "# 분류는 결정 클래스 값 종류의 유행에 따라 긍정/부정과 같은 2개의 결괏값만을 가지는 이진분류와\n",
        "# 여러 개의 결정 클래스 값을 가지는 멀티 분류로 나뉠 수 있다.\n",
        "# 정확도는 직관적으로 모델 예측 성능을 나타내는 평가지표다.\n",
        "# 하지만 이진분류의 경우 데이터 구성에 따라 ML 모델의 성능을 왜곡할 수 있기 때문에 정확도 수치 하나만 가지고 성능을 평가하지 않는다."
      ],
      "metadata": {
        "id": "Q5HpM1Sf8yZl"
      },
      "execution_count": 7,
      "outputs": []
    },
    {
      "cell_type": "code",
      "source": [
        "# 남아있는 문자열 카테고리를 피처를 숫자형 카테고리 피처로 변환한다.\n",
        "from sklearn.preprocessing import LabelEncoder\n",
        "\n",
        "def encode_features(dataDF):\n",
        "  features = ['Cabin', 'Sex', 'Embarked']\n",
        "  for feature in features:\n",
        "    le = LabelEncoder()\n",
        "    le = le.fit(dataDF[feature])\n",
        "    dataDF[feature] = le.transform(dataDF[feature])\n",
        "\n",
        "  return dataDF\n",
        "\n",
        "# Null 처리 함수\n",
        "def fillna(df):\n",
        "  df['Age'].fillna(df['Age'].mean(), inplace=True)\n",
        "  df['Cabin'].fillna('N', inplace=True)\n",
        "  df['Embarked'].fillna('N', inplace=True)\n",
        "  return df\n",
        "\n",
        "\n",
        "# 머신러닝 알고리즘에 불필요한 피처 제거\n",
        "def drop_features(df):\n",
        "  df.drop(['PassengerId', 'Name','Ticket'], axis=1, inplace=True)\n",
        "  return df\n",
        "\n",
        "# 레이블 인코딩 수행\n",
        "def format_features(df):\n",
        "  df['Cabin'] = df['Cabin'].str[:1]\n",
        "  features = ['Cabin', 'Sex', 'Embarked']\n",
        "  for feature in features:\n",
        "    le = LabelEncoder()\n",
        "    le = le.fit(df[feature])\n",
        "    df[feature] = le.transform(df[feature])\n",
        "\n",
        "  return df\n",
        "\n",
        "\n",
        "# 앞에서 설정한 데이터 전처리 함수 호출\n",
        "def transform_features(df):\n",
        "  df = fillna(df)\n",
        "  df = drop_features(df)\n",
        "  df = format_features(df)\n",
        "  return df\n",
        "\n",
        "\n"
      ],
      "metadata": {
        "id": "NhzI3N59PGx-"
      },
      "execution_count": 8,
      "outputs": []
    },
    {
      "cell_type": "code",
      "source": [
        "from sklearn.base import BaseEstimator\n",
        "# 아무런 학습을 하지않고 성별에 따라 생존자를 예측하는 단순한 classifier를 생성한다.\n",
        "\n",
        "class MyDummyClassifier(BaseEstimator):\n",
        "  # fit() 메서드는 아무것도 학습하지않는다.\n",
        "  def fit(self, X, y=None):\n",
        "    pass\n",
        "  # predict() 메서드는 아무것도 학습하지 않음\n",
        "  def predict(self, X):\n",
        "    import numpy as np\n",
        "    pred = np.zeros((X.shape[0], 1))\n",
        "    for i in range(X.shape[0]):\n",
        "      if X['Sex'].iloc[i] == 1:\n",
        "        pred[i] = 0\n",
        "      else:\n",
        "        pred[i] = 1\n",
        "    return pred"
      ],
      "metadata": {
        "id": "36UJILy9MO8-"
      },
      "execution_count": 9,
      "outputs": []
    },
    {
      "cell_type": "code",
      "source": [
        "\n",
        "import pandas as pd\n",
        "from sklearn.model_selection import train_test_split\n",
        "from sklearn.metrics import accuracy_score\n",
        "\n",
        "# 원본 데이터를 재로딩, 데이터 가공, 학습 데이터/테스트 데이터 분할.\n",
        "titanic_df = pd.read_csv('train.csv')\n",
        "y_titanic_df = titanic_df['Survived']\n",
        "X_titanic_df = titanic_df.drop('Survived', axis=1)\n",
        "X_titanic_df = transform_features(X_titanic_df)\n",
        "X_train, X_test, y_train, y_test = train_test_split(X_titanic_df, y_titanic_df, test_size=0.2, random_state=0)\n",
        "\n",
        "# 위에 생성한 Dummy Cassifier를 이용해 학습/예측/평가 수행.\n",
        "myclf = MyDummyClassifier()\n",
        "myclf.fit(X_train, y_train)\n",
        "\n",
        "mypredictions = myclf.predict(X_test)\n",
        "print('Dummy Classifier의 정확도는: {0:.4f}'.format(accuracy_score(y_test, mypredictions)))\n"
      ],
      "metadata": {
        "colab": {
          "base_uri": "https://localhost:8080/"
        },
        "id": "Ut9X77OhMO7S",
        "outputId": "73eca770-49cc-4031-f8ee-3a5454a07b39"
      },
      "execution_count": 10,
      "outputs": [
        {
          "output_type": "stream",
          "name": "stdout",
          "text": [
            "Dummy Classifier의 정확도는: 0.7877\n"
          ]
        },
        {
          "output_type": "stream",
          "name": "stderr",
          "text": [
            "<ipython-input-8-a6eb8d403ec6>:15: FutureWarning: A value is trying to be set on a copy of a DataFrame or Series through chained assignment using an inplace method.\n",
            "The behavior will change in pandas 3.0. This inplace method will never work because the intermediate object on which we are setting values always behaves as a copy.\n",
            "\n",
            "For example, when doing 'df[col].method(value, inplace=True)', try using 'df.method({col: value}, inplace=True)' or df[col] = df[col].method(value) instead, to perform the operation inplace on the original object.\n",
            "\n",
            "\n",
            "  df['Age'].fillna(df['Age'].mean(), inplace=True)\n",
            "<ipython-input-8-a6eb8d403ec6>:16: FutureWarning: A value is trying to be set on a copy of a DataFrame or Series through chained assignment using an inplace method.\n",
            "The behavior will change in pandas 3.0. This inplace method will never work because the intermediate object on which we are setting values always behaves as a copy.\n",
            "\n",
            "For example, when doing 'df[col].method(value, inplace=True)', try using 'df.method({col: value}, inplace=True)' or df[col] = df[col].method(value) instead, to perform the operation inplace on the original object.\n",
            "\n",
            "\n",
            "  df['Cabin'].fillna('N', inplace=True)\n",
            "<ipython-input-8-a6eb8d403ec6>:17: FutureWarning: A value is trying to be set on a copy of a DataFrame or Series through chained assignment using an inplace method.\n",
            "The behavior will change in pandas 3.0. This inplace method will never work because the intermediate object on which we are setting values always behaves as a copy.\n",
            "\n",
            "For example, when doing 'df[col].method(value, inplace=True)', try using 'df.method({col: value}, inplace=True)' or df[col] = df[col].method(value) instead, to perform the operation inplace on the original object.\n",
            "\n",
            "\n",
            "  df['Embarked'].fillna('N', inplace=True)\n"
          ]
        }
      ]
    },
    {
      "cell_type": "code",
      "source": [
        "from sklearn.datasets import load_digits\n",
        "from sklearn.model_selection import train_test_split\n",
        "from sklearn.base import BaseEstimator\n",
        "from sklearn.metrics import accuracy_score\n",
        "import numpy as np\n",
        "import pandas as pd\n",
        "\n",
        "class MyFakeClassifier(BaseEstimator):\n",
        "  def fit(self, X, y):\n",
        "    pass\n",
        "\n",
        "  # 입력값으로 들어오는 X 데이터 셋의 크기만큼 모두 0값으로 만들어서 반환\n",
        "  def predict(self, X):\n",
        "    return np.zeros((len(X), 1), dtype=bool)\n",
        "\n",
        "# 사이킷런의 내장 데이터 세트인 load_digits()을 이용해 MNIST 데이터 로딩\n",
        "digits = load_digits()\n",
        "\n",
        "# digits 번호가 7이면 True이고 이를 astype(int)로 1로 변환, 7번이 아니면 False이고 0으로 변환.\n",
        "y = (digits.target == 7).astype(int)\n",
        "X_train, X_test, y_train, y_test = train_test_split(digits.data, y, random_state=11)"
      ],
      "metadata": {
        "id": "RKxuzI80MO2d"
      },
      "execution_count": 11,
      "outputs": []
    },
    {
      "cell_type": "code",
      "source": [
        "# 불균형한 레이블 데이터 분포도 확인.\n",
        "print('레이블 테스트 세트 크기 :', y_test.shape)\n",
        "print('테스트 세트 레이블 0과 1의 분포도')\n",
        "print(pd.Series(y_test).value_counts())\n",
        "\n",
        "# Dummy Classifier로 학습/예측/정확도 평가\n",
        "fakeclf = MyFakeClassifier()\n",
        "fakeclf.fit(X_train, y_train)\n",
        "fakepred = fakeclf.predict(X_test)\n",
        "print('모든 예측을 0으로 하여도 정확도는:{:.3f}'.format(accuracy_score(y_test, fakepred)))"
      ],
      "metadata": {
        "colab": {
          "base_uri": "https://localhost:8080/"
        },
        "id": "aAciT1QkMO0Q",
        "outputId": "1a1b1c6f-5e1b-45bc-d4af-e7992630fc03"
      },
      "execution_count": 12,
      "outputs": [
        {
          "output_type": "stream",
          "name": "stdout",
          "text": [
            "레이블 테스트 세트 크기 : (450,)\n",
            "테스트 세트 레이블 0과 1의 분포도\n",
            "0    405\n",
            "1     45\n",
            "Name: count, dtype: int64\n",
            "모든 예측을 0으로 하여도 정확도는:0.900\n"
          ]
        }
      ]
    },
    {
      "cell_type": "code",
      "source": [
        "# 이처럼 정확도 평가 지표는 불균형한 레이블 데이터 세트에서는 성능 수치로 사용돼서는 안된다."
      ],
      "metadata": {
        "id": "B__TyPrDMOyk"
      },
      "execution_count": 13,
      "outputs": []
    },
    {
      "cell_type": "markdown",
      "source": [
        "#2.오차 행렬"
      ],
      "metadata": {
        "id": "lyoUeN0bS1fQ"
      }
    },
    {
      "cell_type": "code",
      "source": [
        "# TN은 예측값을 Negative 값을 0으로 예측했고 실제 값 역시 Negative 값 0\n",
        "# FP는 예측값을 Positive 값을 1으로 예측했는데 실제 값은 Negative 값 0\n",
        "# FN은 예측값을 Negative 값을 0으로 예측했고 실제 값은 Positive 값 1\n",
        "# TP는 예측값을 Positive 값을 1으로 예측했는데 실제 값 역시 Positive 값 1"
      ],
      "metadata": {
        "id": "JMBiwnjgTEmi"
      },
      "execution_count": 14,
      "outputs": []
    },
    {
      "cell_type": "code",
      "source": [
        "from sklearn.metrics import confusion_matrix\n",
        "confusion_matrix(y_test, fakepred)\n",
        "# 방금전 모델은 무조건 Negative로 예측하는 Classifier였고 테스트 데이터 세트의 클래스 값 분포는 0이 405건, 1이 45건 이였다.\n",
        "# 이 값을 조합해 정확도, 정밀도, 재현율 값을 알 수 있다.\n",
        "# 정확도는 예측값과 실제값이 얼마나 동일한가에 대한 비율만으로 결정된다.\n",
        "# 따라서 오차행렬에서 True에 해당하는 값인 TN, TP에 좌우된다.\n",
        "# 불균형한 이진 분류 데이터 세트에서는 Positive 데이터 건수가 매우 작기때문에\n",
        "# 데이터에 기반한 ML알고리즘은 Positive보다는 Negative로 예측정확도가 높아지는 경향이 발생한다.\n",
        "# 결과적으로 정확도 지표는 비대칭한 데이터 세트에서 Positive에 대한 예측 정확도를 판단하지 못한 채 Negative에 대한 예측 정확도만으로도\n",
        "# 분류 정확도가 매우 높게 나타나는 수치적인 판단 오류를 일으키게 된다."
      ],
      "metadata": {
        "colab": {
          "base_uri": "https://localhost:8080/"
        },
        "id": "0-OAl3qmTEiQ",
        "outputId": "4a431c47-4e31-4908-ca57-7cd935687f33"
      },
      "execution_count": 15,
      "outputs": [
        {
          "output_type": "execute_result",
          "data": {
            "text/plain": [
              "array([[405,   0],\n",
              "       [ 45,   0]])"
            ]
          },
          "metadata": {},
          "execution_count": 15
        }
      ]
    },
    {
      "cell_type": "markdown",
      "source": [
        "#3.정밀도와 재현율"
      ],
      "metadata": {
        "id": "aNHzhkiTV9iv"
      }
    },
    {
      "cell_type": "code",
      "source": [
        "# 정밀도는 예측을 Positive로 한 대상 중에 예측과 실제 값이 Positive로 일치한 데이터의 비율을 뜻한다. FP + TP는 예측을 Positive로 한 모든 데이터 건수다.\n",
        "# Positive 예측 성능을 더욱 정밀하게 측정하기 위한 평가 지표로 양성 예측도라고도 불린다."
      ],
      "metadata": {
        "id": "JXhO4ll9TEfz"
      },
      "execution_count": 16,
      "outputs": []
    },
    {
      "cell_type": "code",
      "source": [
        "# 재현율은 실제 값이 Positive인 대상 중에 예측과 실제 값이 Positive로 일치한 데이터의 비율을 뜻한다. FN + TP는 실제 값이 Positive인 모든 데이터 건수다.\n",
        "# 민감도 또는 TPR이라고도 부른다."
      ],
      "metadata": {
        "id": "NR7j23j7TEdd"
      },
      "execution_count": 17,
      "outputs": []
    },
    {
      "cell_type": "code",
      "source": [
        "# 재현율이 상대적으로 더 중요한 지표인 경우는 실제 Positive 양성인 데이터 예측을 Negative로 잘못 판단하게 되면 업무상 큰 영향이 발생하는 경우\n",
        "# 정밀도가 상대적으로 더 중요한 지표인 경우는 실제 Negative 음성인 데이터 예측을 Positive로 잘못 판단하게 되면 업무상 큰 영향이 발생하는 경우\n",
        "# 모두 TP를 높히는데 초점을 맞추지만 재현율은 FN을 낮추는데, 정밀도는 FP를 낮추는데 초점을 맞춘다."
      ],
      "metadata": {
        "id": "EOtxGmlfTEa9"
      },
      "execution_count": 18,
      "outputs": []
    },
    {
      "cell_type": "code",
      "source": [
        "from sklearn.metrics import accuracy_score, precision_score, recall_score, confusion_matrix\n",
        "def get_clf_eval(y_test, pred):\n",
        "  confusion = confusion_matrix(y_test,pred)\n",
        "  accuracy = accuracy_score(y_test, pred)\n",
        "  precision = precision_score(y_test, pred)\n",
        "  recall = recall_score(y_test, pred)\n",
        "  print('오차행렬')\n",
        "  print(confusion)\n",
        "  print('정확도: {0:.4f}, 정밀도: {1:.4f}, 재현율: {2:.4f}'.format(accuracy, precision, recall))"
      ],
      "metadata": {
        "id": "M5ZvM6M5MOwW"
      },
      "execution_count": 19,
      "outputs": []
    },
    {
      "cell_type": "code",
      "source": [
        "import pandas as pd\n",
        "from sklearn.model_selection import train_test_split\n",
        "from sklearn.linear_model import LogisticRegression\n",
        "\n",
        "# 원본 데이터를 재로딩, 데이터 가공, 학습 데이터/테스트 데이터 분할.\n",
        "titanic_df = pd.read_csv('train.csv')\n",
        "y_titanic_df = titanic_df['Survived']\n",
        "X_titanic_df = titanic_df.drop('Survived', axis=1)\n",
        "X_titanic_df = transform_features(X_titanic_df)\n",
        "X_train, X_test, y_train, y_test = train_test_split(X_titanic_df, y_titanic_df, test_size=0.2, random_state=0)\n",
        "\n",
        "lr_clf = LogisticRegression(solver='liblinear')\n",
        "\n",
        "lr_clf.fit(X_train, y_train)\n",
        "pred = lr_clf.predict(X_test)\n",
        "get_clf_eval(y_test, pred)"
      ],
      "metadata": {
        "colab": {
          "base_uri": "https://localhost:8080/"
        },
        "id": "bdzh19z6MOuI",
        "outputId": "770c09d4-e75b-45cb-b0bf-a34cd50abd3a"
      },
      "execution_count": 20,
      "outputs": [
        {
          "output_type": "stream",
          "name": "stdout",
          "text": [
            "오차행렬\n",
            "[[93 17]\n",
            " [20 49]]\n",
            "정확도: 0.7933, 정밀도: 0.7424, 재현율: 0.7101\n"
          ]
        },
        {
          "output_type": "stream",
          "name": "stderr",
          "text": [
            "<ipython-input-8-a6eb8d403ec6>:15: FutureWarning: A value is trying to be set on a copy of a DataFrame or Series through chained assignment using an inplace method.\n",
            "The behavior will change in pandas 3.0. This inplace method will never work because the intermediate object on which we are setting values always behaves as a copy.\n",
            "\n",
            "For example, when doing 'df[col].method(value, inplace=True)', try using 'df.method({col: value}, inplace=True)' or df[col] = df[col].method(value) instead, to perform the operation inplace on the original object.\n",
            "\n",
            "\n",
            "  df['Age'].fillna(df['Age'].mean(), inplace=True)\n",
            "<ipython-input-8-a6eb8d403ec6>:16: FutureWarning: A value is trying to be set on a copy of a DataFrame or Series through chained assignment using an inplace method.\n",
            "The behavior will change in pandas 3.0. This inplace method will never work because the intermediate object on which we are setting values always behaves as a copy.\n",
            "\n",
            "For example, when doing 'df[col].method(value, inplace=True)', try using 'df.method({col: value}, inplace=True)' or df[col] = df[col].method(value) instead, to perform the operation inplace on the original object.\n",
            "\n",
            "\n",
            "  df['Cabin'].fillna('N', inplace=True)\n",
            "<ipython-input-8-a6eb8d403ec6>:17: FutureWarning: A value is trying to be set on a copy of a DataFrame or Series through chained assignment using an inplace method.\n",
            "The behavior will change in pandas 3.0. This inplace method will never work because the intermediate object on which we are setting values always behaves as a copy.\n",
            "\n",
            "For example, when doing 'df[col].method(value, inplace=True)', try using 'df.method({col: value}, inplace=True)' or df[col] = df[col].method(value) instead, to perform the operation inplace on the original object.\n",
            "\n",
            "\n",
            "  df['Embarked'].fillna('N', inplace=True)\n"
          ]
        }
      ]
    },
    {
      "cell_type": "markdown",
      "source": [
        "##3-1.정밀도/재현율 트레이드오프\n",
        "### PR곡선\n",
        "\n",
        "\n"
      ],
      "metadata": {
        "id": "j2fLkPORaKHC"
      }
    },
    {
      "cell_type": "code",
      "source": [
        "# 정밀도와 재현율은 상호보완적인 평가 지표이기 때문에 어느 한 쪽을 강제로 높이면 다른 하나의 수치는 떨어지기 쉽다.\n",
        "# 이를 정밀도/재현율 트레이드오프(Trade-off)라고 부른다.\n",
        "# 사이킷런의 분류 알고리즘은 예측 데이터가 특정 레이블에 속하는지 계산하기 위해 먼저 개별 레이블별로 결정 확률을 구한다.\n",
        "# 그리고 예측 확률이 큰 레이블값으로 예측하게 된다."
      ],
      "metadata": {
        "id": "2zPYesWGJ6l5"
      },
      "execution_count": 21,
      "outputs": []
    },
    {
      "cell_type": "code",
      "source": [
        "pred_proba = lr_clf.predict_proba(X_test)\n",
        "pred = lr_clf.predict(X_test)\n",
        "print('pred_proba()결과 Shape: {0}'.format(pred_proba.shape))\n",
        "print('pred_proba array에서 앞 3개만 샘플로 추출 \\n:', pred_proba[:3])\n",
        "\n",
        "# 예측 확률 array와 예측 결과값 array를 병합(concatenate)해 예측 확률과 결괏값을 한눈에 확인\n",
        "pred_proba_result = np.concatenate([pred_proba, pred.reshape(-1,1)], axis=1)\n",
        "print('두 개의 class 중에서 더 큰 확률을 클래스 값으로 예측 \\n', pred_proba_result[:3])"
      ],
      "metadata": {
        "id": "viHhGgw7J6j0",
        "outputId": "b9a7d0c3-9196-4f84-e425-387242323f58",
        "colab": {
          "base_uri": "https://localhost:8080/"
        }
      },
      "execution_count": 22,
      "outputs": [
        {
          "output_type": "stream",
          "name": "stdout",
          "text": [
            "pred_proba()결과 Shape: (179, 2)\n",
            "pred_proba array에서 앞 3개만 샘플로 추출 \n",
            ": [[0.85157347 0.14842653]\n",
            " [0.87164664 0.12835336]\n",
            " [0.9239038  0.0760962 ]]\n",
            "두 개의 class 중에서 더 큰 확률을 클래스 값으로 예측 \n",
            " [[0.85157347 0.14842653 0.        ]\n",
            " [0.87164664 0.12835336 0.        ]\n",
            " [0.9239038  0.0760962  0.        ]]\n"
          ]
        }
      ]
    },
    {
      "cell_type": "code",
      "source": [
        "# 사실 predict() 메서드는 predict_proba() 메서드에 기반에 생성된 api다.\n",
        "# predict()는 predict_proba() 호출 결과로 반환된 배열에서 분류 결정 임계값보다 큰 값이 들어 있는 칼럼의 (첫 번째 칼럼 또는 두 번쨰 칼럼)위치를 받아서\n",
        "# 최종적으로 예측 클래스를 결정하는 api다."
      ],
      "metadata": {
        "id": "7c4UjwHIJ6h1"
      },
      "execution_count": 22,
      "outputs": []
    },
    {
      "cell_type": "code",
      "source": [
        "# 직접 트레이트오프 방식을 이해해보자.\n",
        "# Binarizer 객체의 fit_transform() 메서드를 이용해 ndarray의 값을 threshold보다 같거나 작으면 0값으로, 크면 1값으로 변환한다."
      ],
      "metadata": {
        "id": "vRKnWuf_J6fo"
      },
      "execution_count": 22,
      "outputs": []
    },
    {
      "cell_type": "code",
      "source": [
        "from sklearn.preprocessing import Binarizer\n",
        "\n",
        "x = [[1,-1,2],\n",
        "     [2,0,0],\n",
        "     [0, 1.1, 1.2]]\n",
        "\n",
        "# X의 개별 원소들이 threshold값보다 같거나 작으면 0을, 크면 1을 반환\n",
        "binarizer = Binarizer(threshold=1.1)\n",
        "print(binarizer.fit_transform(x))"
      ],
      "metadata": {
        "id": "kdk6qK4aJ6dc",
        "outputId": "052b3c69-8088-4219-99a3-ce5a7cb4b2f6",
        "colab": {
          "base_uri": "https://localhost:8080/"
        }
      },
      "execution_count": 23,
      "outputs": [
        {
          "output_type": "stream",
          "name": "stdout",
          "text": [
            "[[0. 0. 1.]\n",
            " [1. 0. 0.]\n",
            " [0. 0. 1.]]\n"
          ]
        }
      ]
    },
    {
      "cell_type": "code",
      "source": [
        "# 이제 Binarize을 이용해 사이킷런 predict()의 의사(qseudo)코드를 만들어 보자.\n",
        "# 각 클래스별 예측 확률 값인 pred_proba 객체 변수에 분류 결정 임곗값(threshold)을 0.5로 지정한 Binarizer 클래스를 적용해 최종 예측값을 구하는 방식이다."
      ],
      "metadata": {
        "id": "d6Hgv0nzPbt5"
      },
      "execution_count": null,
      "outputs": []
    },
    {
      "cell_type": "code",
      "source": [
        "from sklearn.preprocessing import Binarizer\n",
        "\n",
        "# Binarizer의 threshold 설정값. 분류 결정 임곗값임.\n",
        "custom_threshold = 0.5\n",
        "\n",
        "# predict_proba() 반환값의 두 번째 칼럼, 즉 Positive 클래스 칼럼 하나만 추출해 Binarizer를 적용\n",
        "pre_proba_1 = pred_proba[:,1].reshape(-1,1)\n",
        "\n",
        "binarizer = Binarizer(threshold=custom_threshold).fit(pre_proba_1)\n",
        "custom_predict = binarizer.transform(pre_proba_1)\n",
        "\n",
        "get_clf_eval(y_test, custom_predict)"
      ],
      "metadata": {
        "id": "2c3Unm2nJ6bM",
        "outputId": "8c1ef491-df9d-4d7a-e011-e6daad5123ed",
        "colab": {
          "base_uri": "https://localhost:8080/"
        }
      },
      "execution_count": 25,
      "outputs": [
        {
          "output_type": "stream",
          "name": "stdout",
          "text": [
            "오차행렬\n",
            "[[93 17]\n",
            " [20 49]]\n",
            "정확도: 0.7933, 정밀도: 0.7424, 재현율: 0.7101\n"
          ]
        }
      ]
    },
    {
      "cell_type": "code",
      "source": [
        "# Binarizer의 threshold 설정값을 0.4로 설정. 즉 분류 결정 임곗값을 0.5에서 0.4로 낮춤\n",
        "custom_threshold = 0.4\n",
        "pre_proba_1 = pred_proba[:,1].reshape(-1,1)\n",
        "binarizer = Binarizer(threshold=custom_threshold).fit(pre_proba_1)\n",
        "custom_predict = binarizer.transform(pre_proba_1)\n",
        "\n",
        "get_clf_eval(y_test, custom_predict)"
      ],
      "metadata": {
        "id": "F1qS3BpVJ6Yw",
        "outputId": "14ac408f-0b07-41b9-b524-4e98f4b340cf",
        "colab": {
          "base_uri": "https://localhost:8080/"
        }
      },
      "execution_count": 27,
      "outputs": [
        {
          "output_type": "stream",
          "name": "stdout",
          "text": [
            "오차행렬\n",
            "[[87 23]\n",
            " [14 55]]\n",
            "정확도: 0.7933, 정밀도: 0.7051, 재현율: 0.7971\n"
          ]
        }
      ]
    },
    {
      "cell_type": "code",
      "source": [
        "# 테스트를 수행할 모든 임곗값을 리스트 객체로 저장.\n",
        "thresholds = [0.4, 0.45, 0.50, 0.55, 0.60]\n",
        "\n",
        "def get_eval_by_threshold(y_test, pred_proba_c1, thresholds):\n",
        "  # thresholds list 객체 내의 값을 차례로 iteration하면서 Evaluation 수행.\n",
        "  for custom_threshold in thresholds:\n",
        "    binarizer = Binarizer(threshold=custom_threshold).fit(pred_proba_c1)\n",
        "    custom_predict = binarizer.transform(pred_proba_c1)\n",
        "    print('임곗값:', custom_threshold)\n",
        "    get_clf_eval(y_test, custom_predict)\n",
        "\n",
        "get_eval_by_threshold(y_test, pred_proba[:,1].reshape(-1,1), thresholds)"
      ],
      "metadata": {
        "id": "LhYRJdNWJ6WX",
        "outputId": "0375625c-2291-410b-9e0a-e670104320b2",
        "colab": {
          "base_uri": "https://localhost:8080/"
        }
      },
      "execution_count": 28,
      "outputs": [
        {
          "output_type": "stream",
          "name": "stdout",
          "text": [
            "임곗값: 0.4\n",
            "오차행렬\n",
            "[[87 23]\n",
            " [14 55]]\n",
            "정확도: 0.7933, 정밀도: 0.7051, 재현율: 0.7971\n",
            "임곗값: 0.45\n",
            "오차행렬\n",
            "[[91 19]\n",
            " [18 51]]\n",
            "정확도: 0.7933, 정밀도: 0.7286, 재현율: 0.7391\n",
            "임곗값: 0.5\n",
            "오차행렬\n",
            "[[93 17]\n",
            " [20 49]]\n",
            "정확도: 0.7933, 정밀도: 0.7424, 재현율: 0.7101\n",
            "임곗값: 0.55\n",
            "오차행렬\n",
            "[[98 12]\n",
            " [23 46]]\n",
            "정확도: 0.8045, 정밀도: 0.7931, 재현율: 0.6667\n",
            "임곗값: 0.6\n",
            "오차행렬\n",
            "[[101   9]\n",
            " [ 26  43]]\n",
            "정확도: 0.8045, 정밀도: 0.8269, 재현율: 0.6232\n"
          ]
        }
      ]
    },
    {
      "cell_type": "code",
      "source": [
        "from sklearn.metrics import precision_recall_curve\n",
        "\n",
        "# 레이블 값이 1일 때의 예측 확률을 추출\n",
        "pred_proba_class1 = lr_clf.predict_proba(X_test)[:,1]\n",
        "\n",
        "# 실제값 데이터 세트와 레이블 값이 1일 때의 예측 확률을 precision_recall_curve 인자로 입력\n",
        "precisions, recalls, thresholds = precision_recall_curve(y_test, pred_proba_class1)\n",
        "print('반환된 분류 결정 임곗값 배열의 Shape:', thresholds.shape)\n",
        "\n",
        "# 반환된 임계값 배열 로우가 147건이므로 샘플로 10건만 추출하되, 임곗값을 15 step으로 추출.\n",
        "thr_index = np.arange(0, thresholds.shape[0], 15)\n",
        "print('샘플 추출을 위한 임곗값 배열의 index:', thr_index)\n",
        "print('샘플용 10개의 임곗값:', np.round(thresholds[thr_index],2))\n",
        "\n",
        "# 15 step 단위로 추출된 임곗값에 따른 정밀도와 재현율 값\n",
        "print('샘플 임곗값별 정밀도: ', np.round(precisions[thr_index],3))\n",
        "print('샘플 임곗값별 재현율: ', np.round(recalls[thr_index],3))\n",
        ""
      ],
      "metadata": {
        "id": "ynFvFFXcMOrs",
        "outputId": "e9c50e7b-abf4-451c-befb-88e156bcaa54",
        "colab": {
          "base_uri": "https://localhost:8080/"
        }
      },
      "execution_count": 29,
      "outputs": [
        {
          "output_type": "stream",
          "name": "stdout",
          "text": [
            "반환된 분류 결정 임곗값 배열의 Shape: (172,)\n",
            "샘플 추출을 위한 임곗값 배열의 index: [  0  15  30  45  60  75  90 105 120 135 150 165]\n",
            "샘플용 10개의 임곗값: [0.04 0.11 0.13 0.15 0.18 0.24 0.36 0.47 0.61 0.71 0.84 0.93]\n",
            "샘플 임곗값별 정밀도:  [0.385 0.409 0.455 0.504 0.562 0.629 0.707 0.731 0.827 0.919 1.    1.   ]\n",
            "샘플 임곗값별 재현율:  [1.    0.971 0.957 0.942 0.913 0.884 0.841 0.71  0.623 0.493 0.319 0.101]\n"
          ]
        }
      ]
    },
    {
      "cell_type": "code",
      "source": [
        "import matplotlib.pyplot as plt\n",
        "import matplotlib.ticker as ticker\n",
        "%matplotlib inline\n",
        "\n",
        "def precision_recall_curve_plot(y_test, pred_proba_c1):\n",
        "  # threshold ndarray와 이 threshold에 따른 정밀도, 재현율 ndarray 추출\n",
        "  precisions, recalls, thresholds = precision_recall_curve(y_test, pred_proba_c1)\n",
        "\n",
        "  # X축을 threshold값으로, Y축은 정밀도, 재현율 값으로 각각 Plot 수행. 정밀도는 점선으로 표시\n",
        "  plt.figure(figsize=(8,6))\n",
        "  thresholds_boundary = thresholds.shape[0]\n",
        "  plt.plot(thresholds, precisions[0:thresholds_boundary], linestyle='--', label='precision')\n",
        "  plt.plot(thresholds, recalls[0:thresholds_boundary], label='recall')\n",
        "\n",
        "  # threshold 값 X 축의 Scale을 0.1 단위로 변경\n",
        "  start, end = plt.xlim()\n",
        "  plt.xticks(np.round(np.arange(start, end, 0.1),2))\n",
        "\n",
        "  # x축, y축 label과 legend, 그리고 grid 설정\n",
        "  plt.xlabel('Threshold value'); plt.ylabel('Precision and Recall value')\n",
        "  plt.legend(); plt.grid()\n",
        "  plt.show()\n",
        "\n",
        "precision_recall_curve_plot(y_test, lr_clf.predict_proba(X_test)[:,1])\n",
        "\n",
        "\n",
        "\n",
        "\n",
        "\n"
      ],
      "metadata": {
        "id": "DMSCotytMOpZ",
        "outputId": "ad02ac44-c1ce-461f-f1f3-402974d9035b",
        "colab": {
          "base_uri": "https://localhost:8080/",
          "height": 542
        }
      },
      "execution_count": 32,
      "outputs": [
        {
          "output_type": "display_data",
          "data": {
            "text/plain": [
              "<Figure size 800x600 with 1 Axes>"
            ],
            "image/png": "[encoded data removed]"
          },
          "metadata": {}
        }
      ]
    },
    {
      "cell_type": "markdown",
      "source": [
        "##3-2.정밀도와 재현율의 맹점\n"
      ],
      "metadata": {
        "id": "WgcOErQ4aDBS"
      }
    },
    {
      "cell_type": "code",
      "source": [
        "# positive 예측의 임곗값을 변경함에 따라 정밀도와 재현율의 수치가 변경된다.\n",
        "# 정밀도 100%가 되는 방법 - 확실한 기준이 되는 경우만 Positive로 예측하고 나머지는 모두 Negative로 예측한다. , FP = 0\n",
        "# 재현율 100%가 되는 방법 - 모든 환자를 Positive로 예측한다. , FN = 0\n",
        "# 결국은 상호보완적으로 이용해야한다."
      ],
      "metadata": {
        "id": "Udr4mnT6aHXR"
      },
      "execution_count": null,
      "outputs": []
    },
    {
      "cell_type": "markdown",
      "source": [
        "#4.F1 스코어\n"
      ],
      "metadata": {
        "id": "CFwZPPLVcWHS"
      }
    },
    {
      "cell_type": "code",
      "source": [
        "# F1스코어는 정밀도와 재현율을 결합한 지표다.\n",
        "# F1스코어는 정밀도와 재현율이 어느한쪽으로 치우치지않느 수치를 나타날때 상대적으로 높은 값을 가진다."
      ],
      "metadata": {
        "id": "V1BNwh_7aHVj"
      },
      "execution_count": null,
      "outputs": []
    },
    {
      "cell_type": "code",
      "source": [
        "from sklearn.metrics import f1_score\n",
        "\n",
        "f1 = f1_score(y_test, pred)\n",
        "print('F1 스코어: {0:.4f}'.format(f1))"
      ],
      "metadata": {
        "id": "kwTgeul0aHTX",
        "outputId": "b5de8902-fa3a-4c4c-9e3a-ad755bee3c1d",
        "colab": {
          "base_uri": "https://localhost:8080/"
        }
      },
      "execution_count": 33,
      "outputs": [
        {
          "output_type": "stream",
          "name": "stdout",
          "text": [
            "F1 스코어: 0.7259\n"
          ]
        }
      ]
    },
    {
      "cell_type": "code",
      "source": [
        "def get_clf_eval(y_test, pred):\n",
        "  confusion = confusion_matrix(y_test, pred)\n",
        "  accuracy = accuracy_score(y_test, pred)\n",
        "  precision = precision_score(y_test, pred)\n",
        "  recall = recall_score(y_test, pred)\n",
        "  # F1 스코어 추가\n",
        "  f1 = f1_score(y_test, pred)\n",
        "  print('오차행렬')\n",
        "  print(confusion)\n",
        "  # f1 score print 추가\n",
        "  print('정확도: {0:.4f}, 정밀도: {1:.4f}, 재현율: {2:.4f}, F1:{3:.4f}'.format(accuracy, precision, recall, f1))\n",
        "\n",
        "thresholds = [0.4, 0.45, 0.50, 0.55, 0.60]\n",
        "pred_proba = lr_clf.predict_proba(X_test)\n",
        "get_eval_by_threshold(y_test, pred_proba[:,1].reshape(-1,1), thresholds)"
      ],
      "metadata": {
        "id": "TdYDsaGiaHRJ",
        "outputId": "a8c59128-66f0-4710-ca51-c61de085b4b3",
        "colab": {
          "base_uri": "https://localhost:8080/"
        }
      },
      "execution_count": 34,
      "outputs": [
        {
          "output_type": "stream",
          "name": "stdout",
          "text": [
            "임곗값: 0.4\n",
            "오차행렬\n",
            "[[87 23]\n",
            " [14 55]]\n",
            "정확도: 0.7933, 정밀도: 0.7051, 재현율: 0.7971, F1:0.7483\n",
            "임곗값: 0.45\n",
            "오차행렬\n",
            "[[91 19]\n",
            " [18 51]]\n",
            "정확도: 0.7933, 정밀도: 0.7286, 재현율: 0.7391, F1:0.7338\n",
            "임곗값: 0.5\n",
            "오차행렬\n",
            "[[93 17]\n",
            " [20 49]]\n",
            "정확도: 0.7933, 정밀도: 0.7424, 재현율: 0.7101, F1:0.7259\n",
            "임곗값: 0.55\n",
            "오차행렬\n",
            "[[98 12]\n",
            " [23 46]]\n",
            "정확도: 0.8045, 정밀도: 0.7931, 재현율: 0.6667, F1:0.7244\n",
            "임곗값: 0.6\n",
            "오차행렬\n",
            "[[101   9]\n",
            " [ 26  43]]\n",
            "정확도: 0.8045, 정밀도: 0.8269, 재현율: 0.6232, F1:0.7107\n"
          ]
        }
      ]
    },
    {
      "cell_type": "markdown",
      "source": [
        "##5.ROC 곡선과 AUC"
      ],
      "metadata": {
        "id": "e1FR6a5xfr9G"
      }
    },
    {
      "cell_type": "code",
      "source": [
        "# ROC곡선과 이에 기반한 AUC 스코어는 이진 분류의 예측 성능 측정에서 중요하게 사용되는 지표다.\n",
        "# ROC곡선은 우리말로 수신자 판단 곡선으로 불린다.\n",
        "# FPR이 변할때 TPR이 어떻게 변하는지를 나타내는 곡선이다.\n",
        "# FPR을 X축으로, TPR을 Y축으로 잡으면 FPR의 변화에 따른 TPR의 변화가 곡선 형태로 나타난다."
      ],
      "metadata": {
        "id": "G8Zwd7nFaHOo"
      },
      "execution_count": null,
      "outputs": []
    },
    {
      "cell_type": "code",
      "source": [
        "# 민감도(TPR) - 재현율이다. 실제값 Positive(양성)가 정확히 예측되야 하는 수준을 나타낸다.(질병이 있는 사람은 질병이 있는 것으로 양성 판정)\n",
        "# 특이성(TNR) - 실제값 Negative(음성)가 정확히 예측되야하는 수준을 나타낸다.(질병이 없는 건강한 사람은 질병이 없는 것으로 음성 판정)"
      ],
      "metadata": {
        "id": "t5raIs0GaHMd"
      },
      "execution_count": null,
      "outputs": []
    },
    {
      "cell_type": "code",
      "source": [
        "from sklearn.metrics import roc_curve\n",
        "\n",
        "# 레이블 값이 1일때의 예측 확률을 추출\n",
        "pred_proba_class1 = lr_clf.predict_proba(X_test)[:,1]\n",
        "\n",
        "fprs, tprs, thresholds = roc_curve(y_test, pred_proba_class1)\n",
        "# 반환된 임곗값 배열에서 샘플로 데이터를 추출하되, 임곗값을 5 Step으로 추출.\n",
        "# thresholds[0]은 max(예측확률)+1로 임의 설정됨. 이를 제외하기 위해 np.arange는 1부터 시작\n",
        "thr_index = np.arange(1, thresholds.shape[0], 5)\n",
        "print('샘플 추출을 위한 임곗값 배열의 index:', thr_index)\n",
        "print('샘플 index로 추출한 임곗값:', np.round(thresholds[thr_index],2))\n",
        "\n",
        "# 5 step 단위로 추출된 임계값에 따른 FPR, TPR 값\n",
        "print('샘플 임곗값별 FPR: ', np.round(fprs[thr_index],3))\n",
        "print('샘플 임곗값별 TPR: ', np.round(tprs[thr_index],3))"
      ],
      "metadata": {
        "id": "QkuTKj5WhP4q",
        "outputId": "c410341e-250f-4945-9c8d-7cf0486158b8",
        "colab": {
          "base_uri": "https://localhost:8080/"
        }
      },
      "execution_count": 35,
      "outputs": [
        {
          "output_type": "stream",
          "name": "stdout",
          "text": [
            "샘플 추출을 위한 임곗값 배열의 index: [ 1  6 11 16 21 26 31 36 41 46 51 56 61 66]\n",
            "샘플 index로 추출한 임곗값: [0.96 0.7  0.64 0.61 0.53 0.47 0.43 0.36 0.25 0.18 0.16 0.13 0.11 0.04]\n",
            "샘플 임곗값별 FPR:  [0.    0.027 0.064 0.082 0.145 0.164 0.191 0.218 0.309 0.418 0.527 0.682\n",
            " 0.864 1.   ]\n",
            "샘플 임곗값별 TPR:  [0.014 0.507 0.58  0.623 0.667 0.725 0.754 0.841 0.87  0.913 0.928 0.957\n",
            " 0.971 1.   ]\n"
          ]
        }
      ]
    },
    {
      "cell_type": "code",
      "source": [
        "def roc_curve_plot(y_test, pred_proba_c1):\n",
        "  # 임곗값에 따른 FPR, TPR 값을 반환받음\n",
        "  fprs, tprs, thresholds = roc_curve(y_test, pred_proba_c1)\n",
        "  # ROC 곡선을 드래프 곡선으로 그림.\n",
        "  plt.plot(fprs, tprs, label='ROC')\n",
        "  # 가운데 대각선 직선을 그림.\n",
        "  plt.plot([0,1], [0,1], 'k--', label='Random')\n",
        "\n",
        "  # FPR X축의 Scale을 0.1 단위로 변경, X, Y축 명 설정 등\n",
        "  start, end = plt.xlim()\n",
        "  plt.xticks(np.round(np.arange(start, end, 0.1),2))\n",
        "  plt.xlim(0,1); plt.ylim(0,1)\n",
        "  plt.xlabel('FPR(1-Sensitivity)'); plt.ylabel('TPR(Recall)')\n",
        "  plt.legend()\n",
        "  plt.show()\n",
        "\n",
        "roc_curve_plot(y_test, lr_clf.predict_proba(X_test)[:,1])"
      ],
      "metadata": {
        "id": "-s6l3QVohP2v",
        "outputId": "db6f0535-10d0-4448-95f5-d39e8892a659",
        "colab": {
          "base_uri": "https://localhost:8080/",
          "height": 455
        }
      },
      "execution_count": 36,
      "outputs": [
        {
          "output_type": "display_data",
          "data": {
            "text/plain": [
              "<Figure size 640x480 with 1 Axes>"
            ],
            "image/png": "[encoded data removed]"
          },
          "metadata": {}
        }
      ]
    },
    {
      "cell_type": "code",
      "source": [
        "from sklearn.metrics import roc_auc_score\n",
        "\n",
        "pred_proba = lr_clf.predict_proba(X_test)[:,1]\n",
        "roc_score = roc_auc_score(y_test, pred_proba)\n",
        "print('ROC AUC 값: {0:.4f}'.format(roc_score))"
      ],
      "metadata": {
        "id": "wfgW9RAjhP0x",
        "outputId": "1e34b2bd-206a-4c01-c0dc-387a89a83583",
        "colab": {
          "base_uri": "https://localhost:8080/"
        }
      },
      "execution_count": 37,
      "outputs": [
        {
          "output_type": "stream",
          "name": "stdout",
          "text": [
            "ROC AUC 값: 0.8697\n"
          ]
        }
      ]
    },
    {
      "cell_type": "code",
      "source": [
        "def get_clf_eval_rocauc(y_test, pred=None, pred_proba=None):\n",
        "  confusion = confusion_matrix(y_test, pred)\n",
        "  accuracy = accuracy_score(y_test, pred)\n",
        "  precision = precision_score(y_test, pred)\n",
        "  recall = recall_score(y_test, pred)\n",
        "  f1 = f1_score(y_test, pred)\n",
        "  # ROC-AUC 추가\n",
        "  roc_auc = roc_auc_score(y_test, pred_proba)\n",
        "  print('오차 행렬')\n",
        "  print(confusion)\n",
        "  # ROC-ACU print 추가\n",
        "  print('정확도: {0:.4f}, 정밀도: {1:.4f}, 재현율: {2:.4f}, F1: {3:.4f}, AUC:{4:.4f}'.format(accuracy, precision, recall, f1, roc_auc))\n",
        ""
      ],
      "metadata": {
        "id": "oA1g2NMvhPv6"
      },
      "execution_count": 39,
      "outputs": []
    },
    {
      "cell_type": "code",
      "source": [
        "# ROC AUC 곡선은 데이터의 불균형이 심할땐 믿기 어려움\n",
        "# PR 곡선이 더 좋을 수도 // 사실 모르겠음 평가지표"
      ],
      "metadata": {
        "id": "23rMdJ2DhPth"
      },
      "execution_count": null,
      "outputs": []
    },
    {
      "cell_type": "markdown",
      "source": [
        "##6.피마 인디언 당뇨병 예측\n"
      ],
      "metadata": {
        "id": "RfHAsId7kzex"
      }
    },
    {
      "cell_type": "code",
      "source": [],
      "metadata": {
        "id": "WdnGL4L5aG77"
      },
      "execution_count": null,
      "outputs": []
    }
  ]
}